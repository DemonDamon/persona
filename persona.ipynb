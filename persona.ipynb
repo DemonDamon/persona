{
 "cells": [
  {
   "cell_type": "code",
   "execution_count": 174,
   "metadata": {},
   "outputs": [],
   "source": [
    "import pymysql\n",
    "import pandas as pd \n",
    "import pickle\n",
    "import matplotlib.pyplot as plt\n",
    "import seaborn as sns\n",
    "from sklearn import metrics\n",
    "from sklearn.cluster import KMeans\n",
    "from sklearn.datasets import load_digits\n",
    "from sklearn.decomposition import PCA\n",
    "from sklearn.preprocessing import scale\n",
    "import datetime\n",
    "\n",
    "# 打开数据库连接\n",
    "conn = pymysql.connect(host='192.168.16.50', port=3000, user='root', passwd='BigData2017!',\\\n",
    "                       db='hospital_dmp',charset=\"utf8\")\n"
   ]
  },
  {
   "cell_type": "code",
   "execution_count": 53,
   "metadata": {},
   "outputs": [
    {
     "data": {
      "text/html": [
       "<div>\n",
       "<style scoped>\n",
       "    .dataframe tbody tr th:only-of-type {\n",
       "        vertical-align: middle;\n",
       "    }\n",
       "\n",
       "    .dataframe tbody tr th {\n",
       "        vertical-align: top;\n",
       "    }\n",
       "\n",
       "    .dataframe thead th {\n",
       "        text-align: right;\n",
       "    }\n",
       "</style>\n",
       "<table border=\"1\" class=\"dataframe\">\n",
       "  <thead>\n",
       "    <tr style=\"text-align: right;\">\n",
       "      <th></th>\n",
       "      <th>buy_date</th>\n",
       "    </tr>\n",
       "  </thead>\n",
       "  <tbody>\n",
       "    <tr>\n",
       "      <th>0</th>\n",
       "      <td>1452096000</td>\n",
       "    </tr>\n",
       "    <tr>\n",
       "      <th>1</th>\n",
       "      <td>1452096000</td>\n",
       "    </tr>\n",
       "    <tr>\n",
       "      <th>2</th>\n",
       "      <td>1451577600</td>\n",
       "    </tr>\n",
       "    <tr>\n",
       "      <th>3</th>\n",
       "      <td>1452009600</td>\n",
       "    </tr>\n",
       "    <tr>\n",
       "      <th>4</th>\n",
       "      <td>1451836800</td>\n",
       "    </tr>\n",
       "  </tbody>\n",
       "</table>\n",
       "</div>"
      ],
      "text/plain": [
       "     buy_date\n",
       "0  1452096000\n",
       "1  1452096000\n",
       "2  1451577600\n",
       "3  1452009600\n",
       "4  1451836800"
      ]
     },
     "execution_count": 53,
     "metadata": {},
     "output_type": "execute_result"
    }
   ],
   "source": [
    "buydate = pd.read_sql(\"select buy_date from hospital_dmp.orderlist_clean where buy_date >= \\\n",
    "unix_timestamp('2016-01-01') and buy_date <= unix_timestamp('2018-04-10');\",conn)\n",
    "buydate.head()"
   ]
  },
  {
   "cell_type": "code",
   "execution_count": 18,
   "metadata": {},
   "outputs": [
    {
     "data": {
      "text/plain": [
       "Index(['shop_no', 'chain', 'buy_date', 'num', 'tip_no', 'member_no', 'price',\n",
       "       'yspm', 'pzwh', 'pm', 'CJ', 'prodcode', 'PRODNAME', 'sort1', 'sort2',\n",
       "       'otc_rx', 'zx', 'tym', 'jx', 'dx', 'match_rate', 'desc', 'clean_flag',\n",
       "       'datetime'],\n",
       "      dtype='object')"
      ]
     },
     "execution_count": 18,
     "metadata": {},
     "output_type": "execute_result"
    }
   ],
   "source": [
    "df.keys()"
   ]
  },
  {
   "cell_type": "code",
   "execution_count": 10,
   "metadata": {},
   "outputs": [
    {
     "data": {
      "text/html": [
       "<div>\n",
       "<style scoped>\n",
       "    .dataframe tbody tr th:only-of-type {\n",
       "        vertical-align: middle;\n",
       "    }\n",
       "\n",
       "    .dataframe tbody tr th {\n",
       "        vertical-align: top;\n",
       "    }\n",
       "\n",
       "    .dataframe thead th {\n",
       "        text-align: right;\n",
       "    }\n",
       "</style>\n",
       "<table border=\"1\" class=\"dataframe\">\n",
       "  <thead>\n",
       "    <tr style=\"text-align: right;\">\n",
       "      <th></th>\n",
       "      <th>shop_no</th>\n",
       "      <th>chain</th>\n",
       "      <th>buy_date</th>\n",
       "      <th>num</th>\n",
       "      <th>tip_no</th>\n",
       "      <th>member_no</th>\n",
       "      <th>price</th>\n",
       "      <th>yspm</th>\n",
       "      <th>pzwh</th>\n",
       "      <th>pm</th>\n",
       "      <th>...</th>\n",
       "      <th>sort2</th>\n",
       "      <th>otc_rx</th>\n",
       "      <th>zx</th>\n",
       "      <th>tym</th>\n",
       "      <th>jx</th>\n",
       "      <th>dx</th>\n",
       "      <th>match_rate</th>\n",
       "      <th>desc</th>\n",
       "      <th>clean_flag</th>\n",
       "      <th>datetime</th>\n",
       "    </tr>\n",
       "  </thead>\n",
       "  <tbody>\n",
       "    <tr>\n",
       "      <th>0</th>\n",
       "      <td></td>\n",
       "      <td>10006</td>\n",
       "      <td>1452096000</td>\n",
       "      <td>1.0</td>\n",
       "      <td>c7c762ae1c35e8916d3682bd9b89f2ca</td>\n",
       "      <td>None</td>\n",
       "      <td>69.0</td>\n",
       "      <td>碧生源牌减肥茶</td>\n",
       "      <td>国食健字G20040371</td>\n",
       "      <td>常菁茶</td>\n",
       "      <td>...</td>\n",
       "      <td>None</td>\n",
       "      <td>其它</td>\n",
       "      <td>保健品</td>\n",
       "      <td>常菁茶</td>\n",
       "      <td>其它</td>\n",
       "      <td>成人</td>\n",
       "      <td>None</td>\n",
       "      <td>关联批准文号得出</td>\n",
       "      <td>1</td>\n",
       "      <td>2016-01-07</td>\n",
       "    </tr>\n",
       "  </tbody>\n",
       "</table>\n",
       "<p>1 rows × 24 columns</p>\n",
       "</div>"
      ],
      "text/plain": [
       "  shop_no  chain    buy_date  num                            tip_no member_no  \\\n",
       "0          10006  1452096000  1.0  c7c762ae1c35e8916d3682bd9b89f2ca      None   \n",
       "\n",
       "   price     yspm           pzwh   pm    ...     sort2 otc_rx   zx  tym  jx  \\\n",
       "0   69.0  碧生源牌减肥茶  国食健字G20040371  常菁茶    ...      None     其它  保健品  常菁茶  其它   \n",
       "\n",
       "   dx match_rate      desc clean_flag   datetime  \n",
       "0  成人       None  关联批准文号得出          1 2016-01-07  \n",
       "\n",
       "[1 rows x 24 columns]"
      ]
     },
     "execution_count": 10,
     "metadata": {},
     "output_type": "execute_result"
    }
   ],
   "source": [
    "df = pd.read_sql(\"select * from hospital_dmp.orderlist_clean limit 1;\",conn)\n",
    "df.head()"
   ]
  },
  {
   "cell_type": "code",
   "execution_count": 59,
   "metadata": {},
   "outputs": [
    {
     "data": {
      "text/html": [
       "<div>\n",
       "<style scoped>\n",
       "    .dataframe tbody tr th:only-of-type {\n",
       "        vertical-align: middle;\n",
       "    }\n",
       "\n",
       "    .dataframe tbody tr th {\n",
       "        vertical-align: top;\n",
       "    }\n",
       "\n",
       "    .dataframe thead th {\n",
       "        text-align: right;\n",
       "    }\n",
       "</style>\n",
       "<table border=\"1\" class=\"dataframe\">\n",
       "  <thead>\n",
       "    <tr style=\"text-align: right;\">\n",
       "      <th></th>\n",
       "      <th>member_no</th>\n",
       "      <th>total_consumption_amount_xb</th>\n",
       "    </tr>\n",
       "  </thead>\n",
       "  <tbody>\n",
       "    <tr>\n",
       "      <th>0</th>\n",
       "      <td>000404d258666f2b258b3a4a02520ae3</td>\n",
       "      <td>1</td>\n",
       "    </tr>\n",
       "    <tr>\n",
       "      <th>1</th>\n",
       "      <td>000ee1fe7a0879a76badc076bab05220</td>\n",
       "      <td>2</td>\n",
       "    </tr>\n",
       "    <tr>\n",
       "      <th>2</th>\n",
       "      <td>00208be0d6dc313d4eb4f61bc48060c9</td>\n",
       "      <td>1</td>\n",
       "    </tr>\n",
       "    <tr>\n",
       "      <th>3</th>\n",
       "      <td>0026e3b5c421f4987becac0ef7652a64</td>\n",
       "      <td>1</td>\n",
       "    </tr>\n",
       "    <tr>\n",
       "      <th>4</th>\n",
       "      <td>0027ac5088d9ed1a596c9e096e2f55f3</td>\n",
       "      <td>2</td>\n",
       "    </tr>\n",
       "  </tbody>\n",
       "</table>\n",
       "</div>"
      ],
      "text/plain": [
       "                          member_no  total_consumption_amount_xb\n",
       "0  000404d258666f2b258b3a4a02520ae3                            1\n",
       "1  000ee1fe7a0879a76badc076bab05220                            2\n",
       "2  00208be0d6dc313d4eb4f61bc48060c9                            1\n",
       "3  0026e3b5c421f4987becac0ef7652a64                            1\n",
       "4  0027ac5088d9ed1a596c9e096e2f55f3                            2"
      ]
     },
     "execution_count": 59,
     "metadata": {},
     "output_type": "execute_result"
    }
   ],
   "source": [
    "# 会员购买xb的总消费次数\n",
    "sql_string = \"select member_no,count(distinct tip_no) as total_consumption_amount_xb from hospital_dmp.orderlist_clean where buy_date>=1451577600 \\\n",
    "and buy_date<=1523289600 and CJ='北京九龙制药有限公司' and pm='小柴胡颗粒' and \\\n",
    "member_no in (select distinct member_no from hospital_dmp.orderlist_clean where CJ='北京九龙制药有限公司' and pm='小柴胡颗粒') \\\n",
    "group by member_no;\"\n",
    "df = pd.read_sql(sql_string,conn)\n",
    "pickle.dump(df,open('total_consumption_amount_xb.pkl','wb+'))\n",
    "df.head()"
   ]
  },
  {
   "cell_type": "code",
   "execution_count": 69,
   "metadata": {},
   "outputs": [
    {
     "data": {
      "text/html": [
       "<div>\n",
       "<style scoped>\n",
       "    .dataframe tbody tr th:only-of-type {\n",
       "        vertical-align: middle;\n",
       "    }\n",
       "\n",
       "    .dataframe tbody tr th {\n",
       "        vertical-align: top;\n",
       "    }\n",
       "\n",
       "    .dataframe thead th {\n",
       "        text-align: right;\n",
       "    }\n",
       "</style>\n",
       "<table border=\"1\" class=\"dataframe\">\n",
       "  <thead>\n",
       "    <tr style=\"text-align: right;\">\n",
       "      <th></th>\n",
       "      <th>member_no</th>\n",
       "      <th>total_patulin_consumption</th>\n",
       "    </tr>\n",
       "  </thead>\n",
       "  <tbody>\n",
       "    <tr>\n",
       "      <th>0</th>\n",
       "      <td>000404d258666f2b258b3a4a02520ae3</td>\n",
       "      <td>1</td>\n",
       "    </tr>\n",
       "    <tr>\n",
       "      <th>1</th>\n",
       "      <td>000ee1fe7a0879a76badc076bab05220</td>\n",
       "      <td>2</td>\n",
       "    </tr>\n",
       "    <tr>\n",
       "      <th>2</th>\n",
       "      <td>00208be0d6dc313d4eb4f61bc48060c9</td>\n",
       "      <td>1</td>\n",
       "    </tr>\n",
       "    <tr>\n",
       "      <th>3</th>\n",
       "      <td>0026e3b5c421f4987becac0ef7652a64</td>\n",
       "      <td>1</td>\n",
       "    </tr>\n",
       "    <tr>\n",
       "      <th>4</th>\n",
       "      <td>0027ac5088d9ed1a596c9e096e2f55f3</td>\n",
       "      <td>2</td>\n",
       "    </tr>\n",
       "  </tbody>\n",
       "</table>\n",
       "</div>"
      ],
      "text/plain": [
       "                          member_no  total_patulin_consumption\n",
       "0  000404d258666f2b258b3a4a02520ae3                          1\n",
       "1  000ee1fe7a0879a76badc076bab05220                          2\n",
       "2  00208be0d6dc313d4eb4f61bc48060c9                          1\n",
       "3  0026e3b5c421f4987becac0ef7652a64                          1\n",
       "4  0027ac5088d9ed1a596c9e096e2f55f3                          2"
      ]
     },
     "execution_count": 69,
     "metadata": {},
     "output_type": "execute_result"
    }
   ],
   "source": [
    "# 会员购买同类适应症药品的总消费次数(包括xb)\n",
    "sql_string = \"select member_no,count(distinct tip_no) as total_patulin_consumption from hospital_dmp.orderlist_clean where \\\n",
    "buy_date>=1451577600 and buy_date<=1523289600 and tym='小柴胡' and member_no in (select distinct member_no from \\\n",
    "hospital_dmp.orderlist_clean where CJ='北京九龙制药有限公司' and pm='小柴胡颗粒') group by member_no;\"\n",
    "df = pd.read_sql(sql_string,conn)\n",
    "pickle.dump(df,open('total_patulin_consumption.pkl','wb+'))\n",
    "df.head()"
   ]
  },
  {
   "cell_type": "code",
   "execution_count": 73,
   "metadata": {},
   "outputs": [],
   "source": [
    "# 会员购买xb的总盒数,存在0值，表示退货行为\n",
    "sql_string = \"select member_no,sum(num) as total_xb_amount from hospital_dmp.orderlist_clean where buy_date>=1451577600 \\\n",
    "and buy_date<=1523289600 and CJ='北京九龙制药有限公司' and pm='小柴胡颗粒' and \\\n",
    "member_no in (select distinct member_no from hospital_dmp.orderlist_clean where CJ='北京九龙制药有限公司' and pm='小柴胡颗粒') \\\n",
    "group by member_no;\"\n",
    "df = pd.read_sql(sql_string,conn)\n",
    "pickle.dump(df,open('total_xb_amount.pkl','wb+'))\n",
    "df.head()"
   ]
  },
  {
   "cell_type": "code",
   "execution_count": 138,
   "metadata": {},
   "outputs": [
    {
     "data": {
      "text/html": [
       "<div>\n",
       "<style scoped>\n",
       "    .dataframe tbody tr th:only-of-type {\n",
       "        vertical-align: middle;\n",
       "    }\n",
       "\n",
       "    .dataframe tbody tr th {\n",
       "        vertical-align: top;\n",
       "    }\n",
       "\n",
       "    .dataframe thead th {\n",
       "        text-align: right;\n",
       "    }\n",
       "</style>\n",
       "<table border=\"1\" class=\"dataframe\">\n",
       "  <thead>\n",
       "    <tr style=\"text-align: right;\">\n",
       "      <th></th>\n",
       "      <th>member_no</th>\n",
       "      <th>total_money_spend_xb</th>\n",
       "    </tr>\n",
       "  </thead>\n",
       "  <tbody>\n",
       "    <tr>\n",
       "      <th>0</th>\n",
       "      <td>000404d258666f2b258b3a4a02520ae3</td>\n",
       "      <td>12.5</td>\n",
       "    </tr>\n",
       "    <tr>\n",
       "      <th>1</th>\n",
       "      <td>000ee1fe7a0879a76badc076bab05220</td>\n",
       "      <td>45.0</td>\n",
       "    </tr>\n",
       "    <tr>\n",
       "      <th>2</th>\n",
       "      <td>00208be0d6dc313d4eb4f61bc48060c9</td>\n",
       "      <td>27.6</td>\n",
       "    </tr>\n",
       "    <tr>\n",
       "      <th>3</th>\n",
       "      <td>0026e3b5c421f4987becac0ef7652a64</td>\n",
       "      <td>10.0</td>\n",
       "    </tr>\n",
       "    <tr>\n",
       "      <th>4</th>\n",
       "      <td>0027ac5088d9ed1a596c9e096e2f55f3</td>\n",
       "      <td>44.0</td>\n",
       "    </tr>\n",
       "  </tbody>\n",
       "</table>\n",
       "</div>"
      ],
      "text/plain": [
       "                          member_no  total_money_spend_xb\n",
       "0  000404d258666f2b258b3a4a02520ae3                  12.5\n",
       "1  000ee1fe7a0879a76badc076bab05220                  45.0\n",
       "2  00208be0d6dc313d4eb4f61bc48060c9                  27.6\n",
       "3  0026e3b5c421f4987becac0ef7652a64                  10.0\n",
       "4  0027ac5088d9ed1a596c9e096e2f55f3                  44.0"
      ]
     },
     "execution_count": 138,
     "metadata": {},
     "output_type": "execute_result"
    }
   ],
   "source": [
    "# 会员购买xb的总消费金额\n",
    "sql_string = \"select member_no,sum(num*price) as total_money_spend_xb from hospital_dmp.orderlist_clean where buy_date>=1451577600 \\\n",
    "and buy_date<=1523289600 and CJ='北京九龙制药有限公司' and pm='小柴胡颗粒' and \\\n",
    "member_no in (select distinct member_no from hospital_dmp.orderlist_clean where CJ='北京九龙制药有限公司' and pm='小柴胡颗粒') \\\n",
    "group by member_no;\"\n",
    "df = pd.read_sql(sql_string,conn)\n",
    "pickle.dump(df,open('total_money_spend_xb.pkl','wb+'))\n",
    "df.head()"
   ]
  },
  {
   "cell_type": "code",
   "execution_count": 144,
   "metadata": {},
   "outputs": [],
   "source": [
    "# 会员最近一次购买xb的时间间隔\n",
    "sql_string = \"select member_no,max(buy_date) as last_buy_xb_date from hospital_dmp.orderlist_clean where buy_date>=1451577600 and \\\n",
    "buy_date<=1523289600 and CJ='北京九龙制药有限公司' and pm='小柴胡颗粒' and member_no in (select distinct member_no from hospital_dmp.orderlist_clean \\\n",
    "where CJ='北京九龙制药有限公司' and pm='小柴胡颗粒') group by member_no;\"\n",
    "# 将时间戳转为20180101的int格式\n",
    "df = pd.read_sql(sql_string,conn)\n",
    "def utcTrans(timeStamp):\n",
    "\tdateArray = datetime.datetime.utcfromtimestamp(int(timeStamp))\n",
    "\treturn int(dateArray.strftime(\"%Y%m%d\"))\n",
    "df.last_buy_xb_date = df.last_buy_xb_date.map(utcTrans)\n",
    "pickle.dump(df,open('last_buy_xb_date.pkl','wb+'))\n",
    "df.head()"
   ]
  },
  {
   "cell_type": "code",
   "execution_count": 193,
   "metadata": {},
   "outputs": [
    {
     "data": {
      "text/html": [
       "<div>\n",
       "<style scoped>\n",
       "    .dataframe tbody tr th:only-of-type {\n",
       "        vertical-align: middle;\n",
       "    }\n",
       "\n",
       "    .dataframe tbody tr th {\n",
       "        vertical-align: top;\n",
       "    }\n",
       "\n",
       "    .dataframe thead th {\n",
       "        text-align: right;\n",
       "    }\n",
       "</style>\n",
       "<table border=\"1\" class=\"dataframe\">\n",
       "  <thead>\n",
       "    <tr style=\"text-align: right;\">\n",
       "      <th></th>\n",
       "      <th>buydate</th>\n",
       "      <th>price</th>\n",
       "    </tr>\n",
       "  </thead>\n",
       "  <tbody>\n",
       "    <tr>\n",
       "      <th>0</th>\n",
       "      <td>2016-07-04</td>\n",
       "      <td>8.0</td>\n",
       "    </tr>\n",
       "    <tr>\n",
       "      <th>1</th>\n",
       "      <td>2016-07-05</td>\n",
       "      <td>8.0</td>\n",
       "    </tr>\n",
       "    <tr>\n",
       "      <th>2</th>\n",
       "      <td>2016-07-09</td>\n",
       "      <td>13.5</td>\n",
       "    </tr>\n",
       "    <tr>\n",
       "      <th>3</th>\n",
       "      <td>2016-07-25</td>\n",
       "      <td>13.5</td>\n",
       "    </tr>\n",
       "    <tr>\n",
       "      <th>4</th>\n",
       "      <td>2016-08-27</td>\n",
       "      <td>13.5</td>\n",
       "    </tr>\n",
       "  </tbody>\n",
       "</table>\n",
       "</div>"
      ],
      "text/plain": [
       "     buydate  price\n",
       "0 2016-07-04    8.0\n",
       "1 2016-07-05    8.0\n",
       "2 2016-07-09   13.5\n",
       "3 2016-07-25   13.5\n",
       "4 2016-08-27   13.5"
      ]
     },
     "execution_count": 193,
     "metadata": {},
     "output_type": "execute_result"
    }
   ],
   "source": [
    "# \n",
    "sql_string = \"select FROM_UNIXTIME(buy_date) as buydate, price from hospital_dmp.orderlist_clean where buy_date>=1451577600 and \\\n",
    "buy_date<=1523289600 and CJ='北京九龙制药有限公司' and pm='小柴胡颗粒' and chain='10006' and shop_no='7f5144f962efde75e0f7661e032166db'\\\n",
    "group by buy_date,price;\"\n",
    "# 将时间戳转为20180101的int格式\n",
    "df = pd.read_sql(sql_string,conn)\n",
    "df.head()"
   ]
  },
  {
   "cell_type": "code",
   "execution_count": 194,
   "metadata": {
    "scrolled": true
   },
   "outputs": [
    {
     "data": {
      "text/html": [
       "<div>\n",
       "<style scoped>\n",
       "    .dataframe tbody tr th:only-of-type {\n",
       "        vertical-align: middle;\n",
       "    }\n",
       "\n",
       "    .dataframe tbody tr th {\n",
       "        vertical-align: top;\n",
       "    }\n",
       "\n",
       "    .dataframe thead th {\n",
       "        text-align: right;\n",
       "    }\n",
       "</style>\n",
       "<table border=\"1\" class=\"dataframe\">\n",
       "  <thead>\n",
       "    <tr style=\"text-align: right;\">\n",
       "      <th></th>\n",
       "      <th>buydate</th>\n",
       "      <th>price</th>\n",
       "    </tr>\n",
       "  </thead>\n",
       "  <tbody>\n",
       "    <tr>\n",
       "      <th>0</th>\n",
       "      <td>2016-07-04</td>\n",
       "      <td>8.00</td>\n",
       "    </tr>\n",
       "    <tr>\n",
       "      <th>1</th>\n",
       "      <td>2016-07-05</td>\n",
       "      <td>8.00</td>\n",
       "    </tr>\n",
       "    <tr>\n",
       "      <th>2</th>\n",
       "      <td>2016-07-09</td>\n",
       "      <td>13.50</td>\n",
       "    </tr>\n",
       "    <tr>\n",
       "      <th>3</th>\n",
       "      <td>2016-07-25</td>\n",
       "      <td>13.50</td>\n",
       "    </tr>\n",
       "    <tr>\n",
       "      <th>4</th>\n",
       "      <td>2016-08-27</td>\n",
       "      <td>13.50</td>\n",
       "    </tr>\n",
       "    <tr>\n",
       "      <th>5</th>\n",
       "      <td>2016-08-28</td>\n",
       "      <td>13.00</td>\n",
       "    </tr>\n",
       "    <tr>\n",
       "      <th>6</th>\n",
       "      <td>2016-09-21</td>\n",
       "      <td>13.50</td>\n",
       "    </tr>\n",
       "    <tr>\n",
       "      <th>7</th>\n",
       "      <td>2016-09-22</td>\n",
       "      <td>13.50</td>\n",
       "    </tr>\n",
       "    <tr>\n",
       "      <th>8</th>\n",
       "      <td>2016-11-16</td>\n",
       "      <td>13.50</td>\n",
       "    </tr>\n",
       "    <tr>\n",
       "      <th>9</th>\n",
       "      <td>2016-11-29</td>\n",
       "      <td>13.50</td>\n",
       "    </tr>\n",
       "    <tr>\n",
       "      <th>10</th>\n",
       "      <td>2016-12-27</td>\n",
       "      <td>13.00</td>\n",
       "    </tr>\n",
       "    <tr>\n",
       "      <th>11</th>\n",
       "      <td>2016-12-27</td>\n",
       "      <td>13.50</td>\n",
       "    </tr>\n",
       "    <tr>\n",
       "      <th>12</th>\n",
       "      <td>2016-12-31</td>\n",
       "      <td>13.50</td>\n",
       "    </tr>\n",
       "    <tr>\n",
       "      <th>13</th>\n",
       "      <td>2016-12-31</td>\n",
       "      <td>23.76</td>\n",
       "    </tr>\n",
       "    <tr>\n",
       "      <th>14</th>\n",
       "      <td>2017-02-10</td>\n",
       "      <td>13.50</td>\n",
       "    </tr>\n",
       "    <tr>\n",
       "      <th>15</th>\n",
       "      <td>2017-02-19</td>\n",
       "      <td>13.50</td>\n",
       "    </tr>\n",
       "    <tr>\n",
       "      <th>16</th>\n",
       "      <td>2017-02-25</td>\n",
       "      <td>39.00</td>\n",
       "    </tr>\n",
       "    <tr>\n",
       "      <th>17</th>\n",
       "      <td>2017-03-07</td>\n",
       "      <td>13.50</td>\n",
       "    </tr>\n",
       "    <tr>\n",
       "      <th>18</th>\n",
       "      <td>2017-04-11</td>\n",
       "      <td>13.50</td>\n",
       "    </tr>\n",
       "    <tr>\n",
       "      <th>19</th>\n",
       "      <td>2017-04-26</td>\n",
       "      <td>13.50</td>\n",
       "    </tr>\n",
       "    <tr>\n",
       "      <th>20</th>\n",
       "      <td>2017-06-01</td>\n",
       "      <td>13.50</td>\n",
       "    </tr>\n",
       "    <tr>\n",
       "      <th>21</th>\n",
       "      <td>2017-06-02</td>\n",
       "      <td>13.00</td>\n",
       "    </tr>\n",
       "    <tr>\n",
       "      <th>22</th>\n",
       "      <td>2017-06-03</td>\n",
       "      <td>13.50</td>\n",
       "    </tr>\n",
       "    <tr>\n",
       "      <th>23</th>\n",
       "      <td>2017-06-10</td>\n",
       "      <td>13.00</td>\n",
       "    </tr>\n",
       "    <tr>\n",
       "      <th>24</th>\n",
       "      <td>2017-06-22</td>\n",
       "      <td>13.50</td>\n",
       "    </tr>\n",
       "    <tr>\n",
       "      <th>25</th>\n",
       "      <td>2017-06-26</td>\n",
       "      <td>13.50</td>\n",
       "    </tr>\n",
       "    <tr>\n",
       "      <th>26</th>\n",
       "      <td>2017-07-02</td>\n",
       "      <td>13.50</td>\n",
       "    </tr>\n",
       "    <tr>\n",
       "      <th>27</th>\n",
       "      <td>2017-07-20</td>\n",
       "      <td>13.50</td>\n",
       "    </tr>\n",
       "    <tr>\n",
       "      <th>28</th>\n",
       "      <td>2017-07-27</td>\n",
       "      <td>13.50</td>\n",
       "    </tr>\n",
       "    <tr>\n",
       "      <th>29</th>\n",
       "      <td>2017-07-30</td>\n",
       "      <td>13.00</td>\n",
       "    </tr>\n",
       "    <tr>\n",
       "      <th>30</th>\n",
       "      <td>2017-08-20</td>\n",
       "      <td>13.50</td>\n",
       "    </tr>\n",
       "    <tr>\n",
       "      <th>31</th>\n",
       "      <td>2017-09-08</td>\n",
       "      <td>13.00</td>\n",
       "    </tr>\n",
       "    <tr>\n",
       "      <th>32</th>\n",
       "      <td>2017-09-14</td>\n",
       "      <td>15.00</td>\n",
       "    </tr>\n",
       "    <tr>\n",
       "      <th>33</th>\n",
       "      <td>2017-09-18</td>\n",
       "      <td>13.00</td>\n",
       "    </tr>\n",
       "    <tr>\n",
       "      <th>34</th>\n",
       "      <td>2017-10-05</td>\n",
       "      <td>13.50</td>\n",
       "    </tr>\n",
       "    <tr>\n",
       "      <th>35</th>\n",
       "      <td>2017-10-10</td>\n",
       "      <td>13.50</td>\n",
       "    </tr>\n",
       "    <tr>\n",
       "      <th>36</th>\n",
       "      <td>2017-11-02</td>\n",
       "      <td>13.00</td>\n",
       "    </tr>\n",
       "    <tr>\n",
       "      <th>37</th>\n",
       "      <td>2017-11-07</td>\n",
       "      <td>13.50</td>\n",
       "    </tr>\n",
       "    <tr>\n",
       "      <th>38</th>\n",
       "      <td>2017-11-09</td>\n",
       "      <td>13.00</td>\n",
       "    </tr>\n",
       "    <tr>\n",
       "      <th>39</th>\n",
       "      <td>2017-11-10</td>\n",
       "      <td>13.50</td>\n",
       "    </tr>\n",
       "    <tr>\n",
       "      <th>40</th>\n",
       "      <td>2017-11-15</td>\n",
       "      <td>13.00</td>\n",
       "    </tr>\n",
       "    <tr>\n",
       "      <th>41</th>\n",
       "      <td>2017-11-16</td>\n",
       "      <td>13.50</td>\n",
       "    </tr>\n",
       "    <tr>\n",
       "      <th>42</th>\n",
       "      <td>2017-11-17</td>\n",
       "      <td>13.50</td>\n",
       "    </tr>\n",
       "    <tr>\n",
       "      <th>43</th>\n",
       "      <td>2017-12-10</td>\n",
       "      <td>15.00</td>\n",
       "    </tr>\n",
       "    <tr>\n",
       "      <th>44</th>\n",
       "      <td>2017-12-11</td>\n",
       "      <td>13.00</td>\n",
       "    </tr>\n",
       "    <tr>\n",
       "      <th>45</th>\n",
       "      <td>2017-12-11</td>\n",
       "      <td>13.50</td>\n",
       "    </tr>\n",
       "    <tr>\n",
       "      <th>46</th>\n",
       "      <td>2017-12-20</td>\n",
       "      <td>13.50</td>\n",
       "    </tr>\n",
       "    <tr>\n",
       "      <th>47</th>\n",
       "      <td>2017-12-28</td>\n",
       "      <td>15.00</td>\n",
       "    </tr>\n",
       "    <tr>\n",
       "      <th>48</th>\n",
       "      <td>2017-12-29</td>\n",
       "      <td>15.00</td>\n",
       "    </tr>\n",
       "    <tr>\n",
       "      <th>49</th>\n",
       "      <td>2018-01-01</td>\n",
       "      <td>13.00</td>\n",
       "    </tr>\n",
       "    <tr>\n",
       "      <th>50</th>\n",
       "      <td>2018-01-02</td>\n",
       "      <td>13.00</td>\n",
       "    </tr>\n",
       "    <tr>\n",
       "      <th>51</th>\n",
       "      <td>2018-01-04</td>\n",
       "      <td>15.00</td>\n",
       "    </tr>\n",
       "    <tr>\n",
       "      <th>52</th>\n",
       "      <td>2018-04-06</td>\n",
       "      <td>13.50</td>\n",
       "    </tr>\n",
       "    <tr>\n",
       "      <th>53</th>\n",
       "      <td>2018-04-07</td>\n",
       "      <td>13.50</td>\n",
       "    </tr>\n",
       "    <tr>\n",
       "      <th>54</th>\n",
       "      <td>2018-04-09</td>\n",
       "      <td>13.50</td>\n",
       "    </tr>\n",
       "  </tbody>\n",
       "</table>\n",
       "</div>"
      ],
      "text/plain": [
       "      buydate  price\n",
       "0  2016-07-04   8.00\n",
       "1  2016-07-05   8.00\n",
       "2  2016-07-09  13.50\n",
       "3  2016-07-25  13.50\n",
       "4  2016-08-27  13.50\n",
       "5  2016-08-28  13.00\n",
       "6  2016-09-21  13.50\n",
       "7  2016-09-22  13.50\n",
       "8  2016-11-16  13.50\n",
       "9  2016-11-29  13.50\n",
       "10 2016-12-27  13.00\n",
       "11 2016-12-27  13.50\n",
       "12 2016-12-31  13.50\n",
       "13 2016-12-31  23.76\n",
       "14 2017-02-10  13.50\n",
       "15 2017-02-19  13.50\n",
       "16 2017-02-25  39.00\n",
       "17 2017-03-07  13.50\n",
       "18 2017-04-11  13.50\n",
       "19 2017-04-26  13.50\n",
       "20 2017-06-01  13.50\n",
       "21 2017-06-02  13.00\n",
       "22 2017-06-03  13.50\n",
       "23 2017-06-10  13.00\n",
       "24 2017-06-22  13.50\n",
       "25 2017-06-26  13.50\n",
       "26 2017-07-02  13.50\n",
       "27 2017-07-20  13.50\n",
       "28 2017-07-27  13.50\n",
       "29 2017-07-30  13.00\n",
       "30 2017-08-20  13.50\n",
       "31 2017-09-08  13.00\n",
       "32 2017-09-14  15.00\n",
       "33 2017-09-18  13.00\n",
       "34 2017-10-05  13.50\n",
       "35 2017-10-10  13.50\n",
       "36 2017-11-02  13.00\n",
       "37 2017-11-07  13.50\n",
       "38 2017-11-09  13.00\n",
       "39 2017-11-10  13.50\n",
       "40 2017-11-15  13.00\n",
       "41 2017-11-16  13.50\n",
       "42 2017-11-17  13.50\n",
       "43 2017-12-10  15.00\n",
       "44 2017-12-11  13.00\n",
       "45 2017-12-11  13.50\n",
       "46 2017-12-20  13.50\n",
       "47 2017-12-28  15.00\n",
       "48 2017-12-29  15.00\n",
       "49 2018-01-01  13.00\n",
       "50 2018-01-02  13.00\n",
       "51 2018-01-04  15.00\n",
       "52 2018-04-06  13.50\n",
       "53 2018-04-07  13.50\n",
       "54 2018-04-09  13.50"
      ]
     },
     "execution_count": 194,
     "metadata": {},
     "output_type": "execute_result"
    }
   ],
   "source": [
    "df"
   ]
  },
  {
   "cell_type": "code",
   "execution_count": 150,
   "metadata": {},
   "outputs": [],
   "source": [
    "def calLastBuyToEndDays(last_buy_date):\n",
    "    '''计算客户最近一次消费距观测窗口结束的天数观测窗口为20180410'''\n",
    "    last_buy_date_str = str(last_buy_date)\n",
    "    d1 = datetime.datetime(2018,4,10)\n",
    "    d2 = datetime.datetime(int(last_buy_date_str[0:4]),int(last_buy_date_str[4:6]),int(last_buy_date_str[6:]))\n",
    "    return (d1-d2).days"
   ]
  },
  {
   "cell_type": "code",
   "execution_count": 155,
   "metadata": {},
   "outputs": [],
   "source": [
    "data_frame = pd.DataFrame(columns=['member_no','total_consumption_amount_xb','total_patulin_consumption','total_xb_amount',\\\n",
    "                                   'last_jz_date_interval','total_money_spend_xb'])\n",
    "data_frame.member_no = pickle.load(open('total_consumption_amount_xb.pkl','rb+')).member_no\n",
    "data_frame.total_consumption_amount_xb = pickle.load(open('total_consumption_amount_xb.pkl','rb+')).total_consumption_amount_xb\n",
    "data_frame.total_patulin_consumption = pickle.load(open('total_patulin_consumption.pkl','rb+')).total_patulin_consumption \n",
    "data_frame.total_xb_amount = pickle.load(open('total_xb_amount.pkl','rb+')).total_xb_amount\n",
    "data_frame.last_jz_date_interval = pickle.load(open('last_buy_xb_date.pkl','rb+')).last_buy_xb_date\n",
    "data_frame.total_money_spend_xb = pickle.load(open('total_money_spend_xb.pkl','rb+')).total_money_spend_xb\n",
    "data_frame.last_jz_date_interval = data_frame.last_jz_date_interval.map(calLastBuyToEndDays)"
   ]
  },
  {
   "cell_type": "code",
   "execution_count": 159,
   "metadata": {},
   "outputs": [
    {
     "data": {
      "text/html": [
       "<div>\n",
       "<style scoped>\n",
       "    .dataframe tbody tr th:only-of-type {\n",
       "        vertical-align: middle;\n",
       "    }\n",
       "\n",
       "    .dataframe tbody tr th {\n",
       "        vertical-align: top;\n",
       "    }\n",
       "\n",
       "    .dataframe thead th {\n",
       "        text-align: right;\n",
       "    }\n",
       "</style>\n",
       "<table border=\"1\" class=\"dataframe\">\n",
       "  <thead>\n",
       "    <tr style=\"text-align: right;\">\n",
       "      <th></th>\n",
       "      <th>member_no</th>\n",
       "      <th>total_consumption_amount_xb</th>\n",
       "      <th>total_patulin_consumption</th>\n",
       "      <th>total_xb_amount</th>\n",
       "      <th>last_jz_date_interval</th>\n",
       "      <th>total_money_spend_xb</th>\n",
       "    </tr>\n",
       "  </thead>\n",
       "  <tbody>\n",
       "    <tr>\n",
       "      <th>0</th>\n",
       "      <td>000404d258666f2b258b3a4a02520ae3</td>\n",
       "      <td>1</td>\n",
       "      <td>1</td>\n",
       "      <td>1.0</td>\n",
       "      <td>771</td>\n",
       "      <td>12.5</td>\n",
       "    </tr>\n",
       "    <tr>\n",
       "      <th>1</th>\n",
       "      <td>000ee1fe7a0879a76badc076bab05220</td>\n",
       "      <td>2</td>\n",
       "      <td>2</td>\n",
       "      <td>3.0</td>\n",
       "      <td>688</td>\n",
       "      <td>45.0</td>\n",
       "    </tr>\n",
       "    <tr>\n",
       "      <th>2</th>\n",
       "      <td>00208be0d6dc313d4eb4f61bc48060c9</td>\n",
       "      <td>1</td>\n",
       "      <td>1</td>\n",
       "      <td>2.0</td>\n",
       "      <td>597</td>\n",
       "      <td>27.6</td>\n",
       "    </tr>\n",
       "    <tr>\n",
       "      <th>3</th>\n",
       "      <td>0026e3b5c421f4987becac0ef7652a64</td>\n",
       "      <td>1</td>\n",
       "      <td>1</td>\n",
       "      <td>1.0</td>\n",
       "      <td>621</td>\n",
       "      <td>10.0</td>\n",
       "    </tr>\n",
       "    <tr>\n",
       "      <th>4</th>\n",
       "      <td>0027ac5088d9ed1a596c9e096e2f55f3</td>\n",
       "      <td>2</td>\n",
       "      <td>2</td>\n",
       "      <td>3.0</td>\n",
       "      <td>670</td>\n",
       "      <td>44.0</td>\n",
       "    </tr>\n",
       "  </tbody>\n",
       "</table>\n",
       "</div>"
      ],
      "text/plain": [
       "                          member_no  total_consumption_amount_xb  \\\n",
       "0  000404d258666f2b258b3a4a02520ae3                            1   \n",
       "1  000ee1fe7a0879a76badc076bab05220                            2   \n",
       "2  00208be0d6dc313d4eb4f61bc48060c9                            1   \n",
       "3  0026e3b5c421f4987becac0ef7652a64                            1   \n",
       "4  0027ac5088d9ed1a596c9e096e2f55f3                            2   \n",
       "\n",
       "   total_patulin_consumption  total_xb_amount  last_jz_date_interval  \\\n",
       "0                          1              1.0                    771   \n",
       "1                          2              3.0                    688   \n",
       "2                          1              2.0                    597   \n",
       "3                          1              1.0                    621   \n",
       "4                          2              3.0                    670   \n",
       "\n",
       "   total_money_spend_xb  \n",
       "0                  12.5  \n",
       "1                  45.0  \n",
       "2                  27.6  \n",
       "3                  10.0  \n",
       "4                  44.0  "
      ]
     },
     "execution_count": 159,
     "metadata": {},
     "output_type": "execute_result"
    }
   ],
   "source": [
    "data_frame.head()"
   ]
  },
  {
   "cell_type": "code",
   "execution_count": 157,
   "metadata": {},
   "outputs": [
    {
     "data": {
      "text/plain": [
       "<matplotlib.axes._subplots.AxesSubplot at 0x62ced278>"
      ]
     },
     "execution_count": 157,
     "metadata": {},
     "output_type": "execute_result"
    },
    {
     "data": {
      "image/png": "[encoded data removed]",
      "text/plain": [
       "<Figure size 360x216 with 2 Axes>"
      ]
     },
     "metadata": {},
     "output_type": "display_data"
    }
   ],
   "source": [
    "internal_chars = ['total_consumption_amount_xb','total_patulin_consumption','total_xb_amount',\\\n",
    "                                   'last_jz_date_interval','total_money_spend_xb']\n",
    "corrmat = data_frame[internal_chars].corr()\n",
    "f, ax = plt.subplots(figsize=(5, 3))\n",
    "plt.xticks(rotation='0')\n",
    "sns.heatmap(corrmat, square=False, linewidths=.5, annot=True)"
   ]
  },
  {
   "cell_type": "code",
   "execution_count": 161,
   "metadata": {},
   "outputs": [],
   "source": [
    "data_frame_1 = pd.DataFrame(columns=['member_no','xbTopatulin','total_xb_amount',\\\n",
    "                                   'last_jz_date_interval','total_money_spend_xb'])\n",
    "data_frame_1.member_no = pickle.load(open('total_consumption_amount_xb.pkl','rb+')).member_no\n",
    "data_frame_1.xbTopatulin = pickle.load(open('total_consumption_amount_xb.pkl','rb+')).total_consumption_amount_xb / \\\n",
    "                             pickle.load(open('total_patulin_consumption.pkl','rb+')).total_patulin_consumption \n",
    "data_frame_1.total_xb_amount = pickle.load(open('total_xb_amount.pkl','rb+')).total_xb_amount\n",
    "data_frame_1.last_jz_date_interval = pickle.load(open('last_buy_xb_date.pkl','rb+')).last_buy_xb_date\n",
    "data_frame_1.total_money_spend_xb = pickle.load(open('total_money_spend_xb.pkl','rb+')).total_money_spend_xb\n",
    "data_frame_1.last_jz_date_interval = data_frame_1.last_jz_date_interval.map(calLastBuyToEndDays)"
   ]
  },
  {
   "cell_type": "code",
   "execution_count": 162,
   "metadata": {},
   "outputs": [
    {
     "data": {
      "text/html": [
       "<div>\n",
       "<style scoped>\n",
       "    .dataframe tbody tr th:only-of-type {\n",
       "        vertical-align: middle;\n",
       "    }\n",
       "\n",
       "    .dataframe tbody tr th {\n",
       "        vertical-align: top;\n",
       "    }\n",
       "\n",
       "    .dataframe thead th {\n",
       "        text-align: right;\n",
       "    }\n",
       "</style>\n",
       "<table border=\"1\" class=\"dataframe\">\n",
       "  <thead>\n",
       "    <tr style=\"text-align: right;\">\n",
       "      <th></th>\n",
       "      <th>member_no</th>\n",
       "      <th>xbTopatulin</th>\n",
       "      <th>total_xb_amount</th>\n",
       "      <th>last_jz_date_interval</th>\n",
       "      <th>total_money_spend_xb</th>\n",
       "    </tr>\n",
       "  </thead>\n",
       "  <tbody>\n",
       "    <tr>\n",
       "      <th>0</th>\n",
       "      <td>000404d258666f2b258b3a4a02520ae3</td>\n",
       "      <td>1.0</td>\n",
       "      <td>1.0</td>\n",
       "      <td>771</td>\n",
       "      <td>12.5</td>\n",
       "    </tr>\n",
       "    <tr>\n",
       "      <th>1</th>\n",
       "      <td>000ee1fe7a0879a76badc076bab05220</td>\n",
       "      <td>1.0</td>\n",
       "      <td>3.0</td>\n",
       "      <td>688</td>\n",
       "      <td>45.0</td>\n",
       "    </tr>\n",
       "    <tr>\n",
       "      <th>2</th>\n",
       "      <td>00208be0d6dc313d4eb4f61bc48060c9</td>\n",
       "      <td>1.0</td>\n",
       "      <td>2.0</td>\n",
       "      <td>597</td>\n",
       "      <td>27.6</td>\n",
       "    </tr>\n",
       "    <tr>\n",
       "      <th>3</th>\n",
       "      <td>0026e3b5c421f4987becac0ef7652a64</td>\n",
       "      <td>1.0</td>\n",
       "      <td>1.0</td>\n",
       "      <td>621</td>\n",
       "      <td>10.0</td>\n",
       "    </tr>\n",
       "    <tr>\n",
       "      <th>4</th>\n",
       "      <td>0027ac5088d9ed1a596c9e096e2f55f3</td>\n",
       "      <td>1.0</td>\n",
       "      <td>3.0</td>\n",
       "      <td>670</td>\n",
       "      <td>44.0</td>\n",
       "    </tr>\n",
       "  </tbody>\n",
       "</table>\n",
       "</div>"
      ],
      "text/plain": [
       "                          member_no  xbTopatulin  total_xb_amount  \\\n",
       "0  000404d258666f2b258b3a4a02520ae3          1.0              1.0   \n",
       "1  000ee1fe7a0879a76badc076bab05220          1.0              3.0   \n",
       "2  00208be0d6dc313d4eb4f61bc48060c9          1.0              2.0   \n",
       "3  0026e3b5c421f4987becac0ef7652a64          1.0              1.0   \n",
       "4  0027ac5088d9ed1a596c9e096e2f55f3          1.0              3.0   \n",
       "\n",
       "   last_jz_date_interval  total_money_spend_xb  \n",
       "0                    771                  12.5  \n",
       "1                    688                  45.0  \n",
       "2                    597                  27.6  \n",
       "3                    621                  10.0  \n",
       "4                    670                  44.0  "
      ]
     },
     "execution_count": 162,
     "metadata": {},
     "output_type": "execute_result"
    }
   ],
   "source": [
    "data_frame_1.head()"
   ]
  },
  {
   "cell_type": "code",
   "execution_count": 164,
   "metadata": {},
   "outputs": [
    {
     "data": {
      "text/plain": [
       "<matplotlib.axes._subplots.AxesSubplot at 0x643a3240>"
      ]
     },
     "execution_count": 164,
     "metadata": {},
     "output_type": "execute_result"
    },
    {
     "data": {
      "image/png": "[encoded data removed]",
      "text/plain": [
       "<Figure size 360x216 with 2 Axes>"
      ]
     },
     "metadata": {},
     "output_type": "display_data"
    }
   ],
   "source": [
    "internal_chars = ['xbTopatulin','total_xb_amount',\\\n",
    "                                   'last_jz_date_interval','total_money_spend_xb']\n",
    "corrmat = data_frame_1[internal_chars].corr()\n",
    "f, ax = plt.subplots(figsize=(5, 3))\n",
    "plt.xticks(rotation='0')\n",
    "sns.heatmap(corrmat, square=False, linewidths=.5, annot=True)"
   ]
  },
  {
   "cell_type": "code",
   "execution_count": 169,
   "metadata": {},
   "outputs": [
    {
     "data": {
      "text/plain": [
       "array([[<matplotlib.axes._subplots.AxesSubplot object at 0x00000000607D6B00>,\n",
       "        <matplotlib.axes._subplots.AxesSubplot object at 0x0000000060751518>],\n",
       "       [<matplotlib.axes._subplots.AxesSubplot object at 0x0000000060731BA8>,\n",
       "        <matplotlib.axes._subplots.AxesSubplot object at 0x000000006067D278>]],\n",
       "      dtype=object)"
      ]
     },
     "execution_count": 169,
     "metadata": {},
     "output_type": "execute_result"
    },
    {
     "data": {
      "image/png": "[encoded data removed]",
      "text/plain": [
       "<Figure size 432x288 with 4 Axes>"
      ]
     },
     "metadata": {},
     "output_type": "display_data"
    }
   ],
   "source": [
    "data_frame_1_no_id = data_frame_1.drop(['member_no'],axis=1)\n",
    "data_frame_1_no_id = np.log(data_frame_1_no_id+1)\n",
    "data_frame_1_no_id.hist()"
   ]
  },
  {
   "cell_type": "code",
   "execution_count": 92,
   "metadata": {},
   "outputs": [],
   "source": [
    "loyalty = pd.DataFrame({'member_no':data_frame.member_no,\\\n",
    "                        'loyalty_score':np.log(data_frame.total_consumption_amount_xb*data_frame.total_xb_amount/data_frame.total_patulin_consumption+1)},\\\n",
    "                       columns=['member_no','loyalty_score'])\n",
    "pickle.dump(loyalty,open('xb_loyalty_score.pkl','wb+'))"
   ]
  },
  {
   "cell_type": "code",
   "execution_count": 115,
   "metadata": {},
   "outputs": [
    {
     "data": {
      "text/plain": [
       "<matplotlib.axes._subplots.AxesSubplot at 0x65488ba8>"
      ]
     },
     "execution_count": 115,
     "metadata": {},
     "output_type": "execute_result"
    },
    {
     "data": {
      "image/png": "[encoded data removed]",
      "text/plain": [
       "<Figure size 432x288 with 1 Axes>"
      ]
     },
     "metadata": {},
     "output_type": "display_data"
    }
   ],
   "source": [
    "loyalty.loyalty_score.hist()"
   ]
  },
  {
   "cell_type": "code",
   "execution_count": 131,
   "metadata": {},
   "outputs": [],
   "source": [
    "loyalty_1 = pd.DataFrame({'member_no':data_frame.member_no,\\\n",
    "                        'a':data_frame.total_consumption_amount_xb/data_frame.total_patulin_consumption,\\\n",
    "                         'b':data_frame.total_xb_amount},\\\n",
    "                       columns=['member_no','a','b'])"
   ]
  },
  {
   "cell_type": "code",
   "execution_count": 132,
   "metadata": {},
   "outputs": [],
   "source": [
    "loyalty_1_no_id = loyalty_1.drop(['member_no'],axis=1)\n",
    "loyalty_1_no_id = np.log(loyalty_1_no_id+1)"
   ]
  },
  {
   "cell_type": "code",
   "execution_count": 133,
   "metadata": {},
   "outputs": [
    {
     "data": {
      "text/plain": [
       "array([[<matplotlib.axes._subplots.AxesSubplot object at 0x00000000649B3630>,\n",
       "        <matplotlib.axes._subplots.AxesSubplot object at 0x0000000064966AC8>]],\n",
       "      dtype=object)"
      ]
     },
     "execution_count": 133,
     "metadata": {},
     "output_type": "execute_result"
    },
    {
     "data": {
      "image/png": "[encoded data removed]",
      "text/plain": [
       "<Figure size 432x288 with 2 Axes>"
      ]
     },
     "metadata": {},
     "output_type": "display_data"
    }
   ],
   "source": [
    "loyalty_1_no_id.hist()"
   ]
  },
  {
   "cell_type": "code",
   "execution_count": 135,
   "metadata": {},
   "outputs": [
    {
     "data": {
      "text/plain": [
       "<matplotlib.axes._subplots.AxesSubplot at 0x64807d30>"
      ]
     },
     "execution_count": 135,
     "metadata": {},
     "output_type": "execute_result"
    },
    {
     "data": {
      "image/png": "[encoded data removed]",
      "text/plain": [
       "<Figure size 360x216 with 2 Axes>"
      ]
     },
     "metadata": {},
     "output_type": "display_data"
    }
   ],
   "source": [
    "internal_chars = ['a','b']\n",
    "corrmat = loyalty_1_no_id[internal_chars].corr()\n",
    "f, ax = plt.subplots(figsize=(5, 3))\n",
    "plt.xticks(rotation='0')\n",
    "sns.heatmap(corrmat, square=False, linewidths=.5, annot=True)"
   ]
  },
  {
   "cell_type": "code",
   "execution_count": 113,
   "metadata": {},
   "outputs": [],
   "source": [
    "def kmeans_model(feature_df,n,isPlot=False):            \n",
    "    # K-means对标准化后的loyalty_no_id_drop_n进行聚类\n",
    "    np.random.seed(42)\n",
    "    data = np.array(feature_df)\n",
    "    n_samples, n_features = data.shape\n",
    "    n_digits = n\n",
    "    reduced_data = PCA(n_components=2).fit_transform(data)\n",
    "    kmeans = KMeans(init='k-means++', n_clusters=n_digits, max_iter=1000, n_init=10)\n",
    "    kmeans.fit(reduced_data)\n",
    "    if isPlot:\n",
    "        # Step size of the mesh. Decrease to increase the quality of the VQ.\n",
    "        h = .02     # point in the mesh [x_min, m_max]x[y_min, y_max].\n",
    "\n",
    "        # Plot the decision boundary. For that, we will assign a color to each\n",
    "        x_min, x_max = reduced_data[:, 0].min() - 1, reduced_data[:, 0].max() + 1\n",
    "        y_min, y_max = reduced_data[:, 1].min() - 1, reduced_data[:, 1].max() + 1\n",
    "        xx, yy = np.meshgrid(np.arange(x_min, x_max, h), np.arange(y_min, y_max, h))\n",
    "\n",
    "        # Obtain labels for each point in mesh. Use last trained model.\n",
    "        Z = kmeans.predict(np.c_[xx.ravel(), yy.ravel()])\n",
    "\n",
    "        # Put the result into a color plot\n",
    "        Z = Z.reshape(xx.shape)\n",
    "        plt.figure(4)\n",
    "        plt.clf()\n",
    "        plt.imshow(Z, interpolation='nearest',\n",
    "                   extent=(xx.min(), xx.max(), yy.min(), yy.max()),\n",
    "                   cmap=plt.cm.Paired,\n",
    "                   aspect='auto', origin='lower')\n",
    "\n",
    "        plt.plot(reduced_data[:, 0], reduced_data[:, 1], 'k.', markersize=2)\n",
    "        # Plot the centroids as a white X\n",
    "        centroids = kmeans.cluster_centers_\n",
    "        plt.scatter(centroids[:, 0], centroids[:, 1],\n",
    "                    marker='x', s=169, linewidths=3,\n",
    "                    color='w', zorder=10)\n",
    "        plt.title('K-means clustering on the digits dataset (PCA-reduced data)\\n'\n",
    "                  'Centroids are marked with white cross')\n",
    "        plt.xlim(x_min, x_max)\n",
    "        plt.ylim(y_min, y_max)\n",
    "        plt.xticks(())\n",
    "        plt.yticks(())\n",
    "        plt.show()\n",
    "    return kmeans.labels_"
   ]
  },
  {
   "cell_type": "code",
   "execution_count": 170,
   "metadata": {},
   "outputs": [
    {
     "data": {
      "image/png": "[encoded data removed]",
      "text/plain": [
       "<Figure size 432x288 with 1 Axes>"
      ]
     },
     "metadata": {},
     "output_type": "display_data"
    }
   ],
   "source": [
    "labels_loyalty = kmeans_model(data_frame_1_no_id,n=3,isPlot=True)"
   ]
  },
  {
   "cell_type": "code",
   "execution_count": 171,
   "metadata": {},
   "outputs": [
    {
     "name": "stdout",
     "output_type": "stream",
     "text": [
      "number of estimated clusters : 28\n"
     ]
    },
    {
     "data": {
      "image/png": "[encoded data removed]",
      "text/plain": [
       "<Figure size 432x288 with 1 Axes>"
      ]
     },
     "metadata": {},
     "output_type": "display_data"
    }
   ],
   "source": [
    "# MeanShfit均值漂移算法对标准化后的loyalty_no_id_drop_n进行聚类\n",
    "import numpy as np\n",
    "from sklearn.cluster import MeanShift, estimate_bandwidth\n",
    "from sklearn.datasets.samples_generator import make_blobs\n",
    "\n",
    "X = np.array(data_frame_1_no_id)\n",
    "\n",
    "# bandwidth估计加权核的带宽\n",
    "# n_samples参数指定用于估计的样本数\n",
    "# quantile指定至少被使用的指定数量样本数的分位数。（取值与[0, 1]）\n",
    "bandwidth = estimate_bandwidth(X, quantile=0.2, n_samples=10000, random_state=42, n_jobs=2) \n",
    "\n",
    "# bin_seeding用来设定初始核的位置参数的生成方式，default False,默认采用所有点的\n",
    "# 位置平均，当改为True时使用离散后的点的平均，前者比后者慢。\n",
    "ms = MeanShift(bandwidth=bandwidth, bin_seeding=True)\n",
    "ms.fit(X)\n",
    "labels = ms.labels_\n",
    "cluster_centers = ms.cluster_centers_\n",
    "\n",
    "labels_unique = np.unique(labels)\n",
    "n_clusters_ = len(labels_unique)\n",
    "\n",
    "print(\"number of estimated clusters : %d\" % n_clusters_)\n",
    "\n",
    "import matplotlib.pyplot as plt\n",
    "from itertools import cycle\n",
    "\n",
    "plt.figure(1)\n",
    "plt.clf()\n",
    "\n",
    "colors = cycle('bgrcmykbgrcmykbgrcmykbgrcmyk')\n",
    "for k, col in zip(range(n_clusters_), colors):\n",
    "    my_members = labels == k\n",
    "    cluster_center = cluster_centers[k]\n",
    "    plt.plot(X[my_members, 0], X[my_members, 1], col + '.')\n",
    "    plt.plot(cluster_center[0], cluster_center[1], 'o', markerfacecolor=col,\n",
    "             markeredgecolor='k', markersize=14)\n",
    "plt.title('Estimated number of clusters: %d' % n_clusters_)\n",
    "plt.show()"
   ]
  },
  {
   "cell_type": "code",
   "execution_count": 172,
   "metadata": {},
   "outputs": [
    {
     "data": {
      "image/png": "[encoded data removed]",
      "text/plain": [
       "<Figure size 432x288 with 1 Axes>"
      ]
     },
     "metadata": {},
     "output_type": "display_data"
    }
   ],
   "source": [
    "# K-means对标准化后的loyalty_no_id_drop_n进行聚类（2）\n",
    "np.random.seed(42)\n",
    "\n",
    "data = cluster_centers\n",
    "\n",
    "n_samples, n_features = data.shape\n",
    "n_digits = 3\n",
    "\n",
    "reduced_data = PCA(n_components=2).fit_transform(data)\n",
    "kmeans = KMeans(init='k-means++', n_clusters=n_digits, max_iter=1000, n_init=10)\n",
    "y_pred = kmeans.fit_predict(reduced_data)\n",
    "\n",
    "plt.title('k-means')\n",
    "plt.scatter(data[:, 0], data[:, 1], c=y_pred)\n",
    "plt.show()"
   ]
  }
 ],
 "metadata": {
  "kernelspec": {
   "display_name": "Python 3",
   "language": "python",
   "name": "python3"
  },
  "language_info": {
   "codemirror_mode": {
    "name": "ipython",
    "version": 3
   },
   "file_extension": ".py",
   "mimetype": "text/x-python",
   "name": "python",
   "nbconvert_exporter": "python",
   "pygments_lexer": "ipython3",
   "version": "3.6.5"
  }
 },
 "nbformat": 4,
 "nbformat_minor": 2
}
